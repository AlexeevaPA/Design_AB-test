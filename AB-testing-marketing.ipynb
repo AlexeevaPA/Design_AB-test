{
 "cells": [
  {
   "cell_type": "markdown",
   "id": "cb6cfecc",
   "metadata": {},
   "source": [
    "## A/B-test for a Kaggle dataset"
   ]
  },
  {
   "cell_type": "markdown",
   "id": "07c3a100",
   "metadata": {},
   "source": [
    "### <font color='red'>The task is: </font>\n",
    "Marketing companies want to run successful campaigns, but the market is complex and several options can work. So normally they tun A/B tests, that is a randomized experimentation process wherein two or more versions of a variable (web page, page element, banner, etc.) are shown to different segments of people at the same time to determine which version leaves the maximum impact and drive business metrics.\n",
    "\n",
    "Would the campaign be successful?"
   ]
  },
  {
   "cell_type": "markdown",
   "id": "7f7c7b3a",
   "metadata": {},
   "source": [
    "### <font color='blue'>Let's complete it!</font>"
   ]
  },
  {
   "cell_type": "markdown",
   "id": "eccfa0b9",
   "metadata": {},
   "source": [
    "### <font color='red'>1. Loading data </font>"
   ]
  },
  {
   "cell_type": "code",
   "execution_count": 3,
   "id": "3bfbdbcc",
   "metadata": {},
   "outputs": [],
   "source": [
    "# Base\n",
    "# -----------------------------------\n",
    "import numpy as np\n",
    "import pandas as pd \n",
    "import seaborn as sns\n",
    "import matplotlib.pyplot as plt\n",
    "import os\n",
    "\n",
    "# Hypothesis Testing\n",
    "# -----------------------------------\n",
    "from scipy.stats import shapiro\n",
    "import scipy.stats as stats"
   ]
  },
  {
   "cell_type": "code",
   "execution_count": 4,
   "id": "0746b4c0",
   "metadata": {},
   "outputs": [
    {
     "name": "stdout",
     "output_type": "stream",
     "text": [
      "# Data imported!\n",
      "# ------------------------------------ \n",
      "\n",
      "# DIMENSIONS -------------------------\n",
      "Observation: 588101 Column: 7 \n",
      "\n",
      "# DTYPES -----------------------------\n",
      "Object Variables: \n",
      " # of Variables: 2 \n",
      " ['test group', 'most ads day'] \n",
      "\n",
      "Integer Variables: \n",
      " # of Variables: 4 \n",
      " ['Unnamed: 0', 'user id', 'total ads', 'most ads hour'] \n",
      "\n",
      "Bool Variables: \n",
      " # of Variables: 1 \n",
      " ['converted'] \n",
      "\n",
      "# MISSING VALUE ---------------------\n",
      "Are there any missing values? \n",
      "  No missing value! \n",
      "\n",
      "# MEMORY USAGE ---------------------- \n",
      " 27.5+ MB\n"
     ]
    },
    {
     "data": {
      "text/html": [
       "<div>\n",
       "<style scoped>\n",
       "    .dataframe tbody tr th:only-of-type {\n",
       "        vertical-align: middle;\n",
       "    }\n",
       "\n",
       "    .dataframe tbody tr th {\n",
       "        vertical-align: top;\n",
       "    }\n",
       "\n",
       "    .dataframe thead th {\n",
       "        text-align: right;\n",
       "    }\n",
       "</style>\n",
       "<table border=\"1\" class=\"dataframe\">\n",
       "  <thead>\n",
       "    <tr style=\"text-align: right;\">\n",
       "      <th></th>\n",
       "      <th>Unnamed: 0</th>\n",
       "      <th>user id</th>\n",
       "      <th>test group</th>\n",
       "      <th>converted</th>\n",
       "      <th>total ads</th>\n",
       "      <th>most ads day</th>\n",
       "      <th>most ads hour</th>\n",
       "    </tr>\n",
       "  </thead>\n",
       "  <tbody>\n",
       "    <tr>\n",
       "      <th>0</th>\n",
       "      <td>0</td>\n",
       "      <td>1069124</td>\n",
       "      <td>ad</td>\n",
       "      <td>False</td>\n",
       "      <td>130</td>\n",
       "      <td>Monday</td>\n",
       "      <td>20</td>\n",
       "    </tr>\n",
       "    <tr>\n",
       "      <th>1</th>\n",
       "      <td>1</td>\n",
       "      <td>1119715</td>\n",
       "      <td>ad</td>\n",
       "      <td>False</td>\n",
       "      <td>93</td>\n",
       "      <td>Tuesday</td>\n",
       "      <td>22</td>\n",
       "    </tr>\n",
       "    <tr>\n",
       "      <th>2</th>\n",
       "      <td>2</td>\n",
       "      <td>1144181</td>\n",
       "      <td>ad</td>\n",
       "      <td>False</td>\n",
       "      <td>21</td>\n",
       "      <td>Tuesday</td>\n",
       "      <td>18</td>\n",
       "    </tr>\n",
       "    <tr>\n",
       "      <th>3</th>\n",
       "      <td>3</td>\n",
       "      <td>1435133</td>\n",
       "      <td>ad</td>\n",
       "      <td>False</td>\n",
       "      <td>355</td>\n",
       "      <td>Tuesday</td>\n",
       "      <td>10</td>\n",
       "    </tr>\n",
       "    <tr>\n",
       "      <th>4</th>\n",
       "      <td>4</td>\n",
       "      <td>1015700</td>\n",
       "      <td>ad</td>\n",
       "      <td>False</td>\n",
       "      <td>276</td>\n",
       "      <td>Friday</td>\n",
       "      <td>14</td>\n",
       "    </tr>\n",
       "  </tbody>\n",
       "</table>\n",
       "</div>"
      ],
      "text/plain": [
       "   Unnamed: 0  user id test group  converted  total ads most ads day  \\\n",
       "0           0  1069124         ad      False        130       Monday   \n",
       "1           1  1119715         ad      False         93      Tuesday   \n",
       "2           2  1144181         ad      False         21      Tuesday   \n",
       "3           3  1435133         ad      False        355      Tuesday   \n",
       "4           4  1015700         ad      False        276       Friday   \n",
       "\n",
       "   most ads hour  \n",
       "0             20  \n",
       "1             22  \n",
       "2             18  \n",
       "3             10  \n",
       "4             14  "
      ]
     },
     "execution_count": 4,
     "metadata": {},
     "output_type": "execute_result"
    }
   ],
   "source": [
    "def load(path, info = True):\n",
    "    \n",
    "    import pandas as pd\n",
    "    import io\n",
    "    \n",
    "    if len(path.split(\".csv\")) > 1:\n",
    "        read = pd.read_csv(path)\n",
    "    elif len(path.split(\".xlsx\")) > 1:\n",
    "        read = pd.read_excel(path)\n",
    "    \n",
    "    if info:\n",
    "        if len(read) > 0:\n",
    "            print(\"# Data imported!\")\n",
    "            print(\"# ------------------------------------\", \"\\n\")\n",
    "        \n",
    "            print(\"# DIMENSIONS -------------------------\")\n",
    "            print(\"Observation:\", read.shape[0], \"Column:\", read.shape[1], \"\\n\")\n",
    "    \n",
    "            print(\"# DTYPES -----------------------------\")\n",
    "            if len(read.select_dtypes(\"object\").columns) > 0:\n",
    "                print(\"Object Variables:\", \"\\n\", \"# of Variables:\", \n",
    "                      len(read.select_dtypes(\"object\").columns), \"\\n\", \n",
    "                      read.select_dtypes(\"object\").columns.tolist(), \"\\n\")\n",
    "    \n",
    "            if len(read.select_dtypes(\"integer\").columns) > 0:\n",
    "                print(\"Integer Variables:\", \"\\n\", \"# of Variables:\", \n",
    "                      len(read.select_dtypes(\"integer\").columns), \"\\n\", \n",
    "                      read.select_dtypes(\"integer\").columns.tolist(), \"\\n\")\n",
    "    \n",
    "            if len(read.select_dtypes(\"float\").columns) > 0:\n",
    "                print(\"Float Variables:\", \"\\n\", \"# of Variables:\", \n",
    "                      len(read.select_dtypes(\"float\").columns), \"\\n\", \n",
    "                      read.select_dtypes(\"float\").columns.tolist(), \"\\n\")\n",
    "    \n",
    "            if len(read.select_dtypes(\"bool\").columns) > 0:\n",
    "                print(\"Bool Variables:\", \"\\n\", \"# of Variables:\", \n",
    "                      len(read.select_dtypes(\"bool\").columns), \"\\n\", \n",
    "                      read.select_dtypes(\"bool\").columns.tolist(), \"\\n\")\n",
    "    \n",
    "            print(\"# MISSING VALUE ---------------------\")\n",
    "            print(\"Are there any missing values? \\n \", np.where(read.isnull().values.any() == False, \n",
    "                                                            \"No missing value!\", \"Data includes missing value!\"), \"\\n\")\n",
    "            \n",
    "            buf = io.StringIO()\n",
    "            read.info(buf=buf)\n",
    "            info = buf.getvalue().split('\\n')[-2].split(\":\")[1].strip()\n",
    "            print(\"# MEMORY USAGE ---------------------- \\n\", info)\n",
    "          \n",
    "        else:\n",
    "            print(\"# Data did not import!\")\n",
    "    \n",
    "    return read\n",
    "\n",
    "path=\"marketing_AB.csv\"\n",
    "data = load(path, info = True)\n",
    "data.head()"
   ]
  },
  {
   "cell_type": "markdown",
   "id": "c7e6287a",
   "metadata": {},
   "source": [
    "### <font color='red'>2. Check data properties </font>"
   ]
  },
  {
   "cell_type": "markdown",
   "id": "ee33198d",
   "metadata": {},
   "source": [
    "There are just 6 columns, so it is quite easy to analyse its usability"
   ]
  },
  {
   "cell_type": "markdown",
   "id": "c7d530a9",
   "metadata": {},
   "source": [
    "Check if there are only unique users in the \"user id\" column"
   ]
  },
  {
   "cell_type": "code",
   "execution_count": 6,
   "id": "dd58924d",
   "metadata": {},
   "outputs": [
    {
     "name": "stdout",
     "output_type": "stream",
     "text": [
      "There are only unique users in the column\n"
     ]
    }
   ],
   "source": [
    "if len(data[\"user id\"])==len(data[\"user id\"].unique()):\n",
    "    print(\"There are only unique users in the column\")\n",
    "else:\n",
    "    print(\"There are NOT only unique users in the column\")"
   ]
  },
  {
   "cell_type": "code",
   "execution_count": 18,
   "id": "bf82a9a9",
   "metadata": {},
   "outputs": [
    {
     "data": {
      "image/png": "[encoded data removed]",
      "text/plain": [
       "<Figure size 432x288 with 1 Axes>"
      ]
     },
     "metadata": {
      "needs_background": "light"
     },
     "output_type": "display_data"
    }
   ],
   "source": [
    "sns.histplot(data[data[\"test group\"]==\"ad\"]['total ads'])\n",
    "plt.show()"
   ]
  },
  {
   "cell_type": "code",
   "execution_count": 12,
   "id": "340197f6",
   "metadata": {},
   "outputs": [
    {
     "data": {
      "text/html": [
       "<div>\n",
       "<style scoped>\n",
       "    .dataframe tbody tr th:only-of-type {\n",
       "        vertical-align: middle;\n",
       "    }\n",
       "\n",
       "    .dataframe tbody tr th {\n",
       "        vertical-align: top;\n",
       "    }\n",
       "\n",
       "    .dataframe thead th {\n",
       "        text-align: right;\n",
       "    }\n",
       "</style>\n",
       "<table border=\"1\" class=\"dataframe\">\n",
       "  <thead>\n",
       "    <tr style=\"text-align: right;\">\n",
       "      <th></th>\n",
       "      <th>count</th>\n",
       "      <th>mean</th>\n",
       "      <th>std</th>\n",
       "      <th>min</th>\n",
       "      <th>1%</th>\n",
       "      <th>5%</th>\n",
       "      <th>10%</th>\n",
       "      <th>20%</th>\n",
       "      <th>50%</th>\n",
       "      <th>80%</th>\n",
       "      <th>90%</th>\n",
       "      <th>95%</th>\n",
       "      <th>99%</th>\n",
       "      <th>max</th>\n",
       "    </tr>\n",
       "  </thead>\n",
       "  <tbody>\n",
       "    <tr>\n",
       "      <th>total ads</th>\n",
       "      <td>588101.0</td>\n",
       "      <td>24.820876</td>\n",
       "      <td>43.715181</td>\n",
       "      <td>1.0</td>\n",
       "      <td>1.0</td>\n",
       "      <td>1.0</td>\n",
       "      <td>2.0</td>\n",
       "      <td>3.0</td>\n",
       "      <td>13.0</td>\n",
       "      <td>33.0</td>\n",
       "      <td>57.0</td>\n",
       "      <td>88.0</td>\n",
       "      <td>202.0</td>\n",
       "      <td>2065.0</td>\n",
       "    </tr>\n",
       "  </tbody>\n",
       "</table>\n",
       "</div>"
      ],
      "text/plain": [
       "              count       mean        std  min   1%   5%  10%  20%   50%  \\\n",
       "total ads  588101.0  24.820876  43.715181  1.0  1.0  1.0  2.0  3.0  13.0   \n",
       "\n",
       "            80%   90%   95%    99%     max  \n",
       "total ads  33.0  57.0  88.0  202.0  2065.0  "
      ]
     },
     "execution_count": 12,
     "metadata": {},
     "output_type": "execute_result"
    }
   ],
   "source": [
    "data.describe([0.01, 0.05, 0.10, 0.20, 0.80, 0.90, 0.95, 0.99])[[\"total ads\"]].T"
   ]
  },
  {
   "cell_type": "code",
   "execution_count": 16,
   "id": "b38cf63e",
   "metadata": {},
   "outputs": [
    {
     "data": {
      "text/html": [
       "<div>\n",
       "<style scoped>\n",
       "    .dataframe tbody tr th:only-of-type {\n",
       "        vertical-align: middle;\n",
       "    }\n",
       "\n",
       "    .dataframe tbody tr th {\n",
       "        vertical-align: top;\n",
       "    }\n",
       "\n",
       "    .dataframe thead th {\n",
       "        text-align: right;\n",
       "    }\n",
       "</style>\n",
       "<table border=\"1\" class=\"dataframe\">\n",
       "  <thead>\n",
       "    <tr style=\"text-align: right;\">\n",
       "      <th></th>\n",
       "      <th>count</th>\n",
       "      <th>mean</th>\n",
       "      <th>std</th>\n",
       "      <th>min</th>\n",
       "      <th>1%</th>\n",
       "      <th>5%</th>\n",
       "      <th>10%</th>\n",
       "      <th>20%</th>\n",
       "      <th>50%</th>\n",
       "      <th>80%</th>\n",
       "      <th>90%</th>\n",
       "      <th>95%</th>\n",
       "      <th>99%</th>\n",
       "      <th>max</th>\n",
       "    </tr>\n",
       "  </thead>\n",
       "  <tbody>\n",
       "    <tr>\n",
       "      <th>total ads</th>\n",
       "      <td>587772.0</td>\n",
       "      <td>24.398415</td>\n",
       "      <td>39.623898</td>\n",
       "      <td>1.0</td>\n",
       "      <td>1.0</td>\n",
       "      <td>1.0</td>\n",
       "      <td>2.0</td>\n",
       "      <td>3.0</td>\n",
       "      <td>13.0</td>\n",
       "      <td>33.0</td>\n",
       "      <td>56.0</td>\n",
       "      <td>87.0</td>\n",
       "      <td>196.0</td>\n",
       "      <td>599.0</td>\n",
       "    </tr>\n",
       "  </tbody>\n",
       "</table>\n",
       "</div>"
      ],
      "text/plain": [
       "              count       mean        std  min   1%   5%  10%  20%   50%  \\\n",
       "total ads  587772.0  24.398415  39.623898  1.0  1.0  1.0  2.0  3.0  13.0   \n",
       "\n",
       "            80%   90%   95%    99%    max  \n",
       "total ads  33.0  56.0  87.0  196.0  599.0  "
      ]
     },
     "execution_count": 16,
     "metadata": {},
     "output_type": "execute_result"
    }
   ],
   "source": [
    "data=data[data[\"total ads\"] < 700]\n",
    "data.describe([0.01, 0.05, 0.10, 0.20, 0.80, 0.90, 0.95, 0.99])[[\"total ads\"]].T"
   ]
  },
  {
   "cell_type": "code",
   "execution_count": 175,
   "id": "9826a206",
   "metadata": {},
   "outputs": [
    {
     "data": {
      "text/html": [
       "<div>\n",
       "<style scoped>\n",
       "    .dataframe tbody tr th:only-of-type {\n",
       "        vertical-align: middle;\n",
       "    }\n",
       "\n",
       "    .dataframe tbody tr th {\n",
       "        vertical-align: top;\n",
       "    }\n",
       "\n",
       "    .dataframe thead th {\n",
       "        text-align: right;\n",
       "    }\n",
       "</style>\n",
       "<table border=\"1\" class=\"dataframe\">\n",
       "  <thead>\n",
       "    <tr style=\"text-align: right;\">\n",
       "      <th></th>\n",
       "      <th>count</th>\n",
       "      <th>mean</th>\n",
       "      <th>std</th>\n",
       "      <th>min</th>\n",
       "      <th>1%</th>\n",
       "      <th>5%</th>\n",
       "      <th>10%</th>\n",
       "      <th>20%</th>\n",
       "      <th>50%</th>\n",
       "      <th>80%</th>\n",
       "      <th>90%</th>\n",
       "      <th>95%</th>\n",
       "      <th>99%</th>\n",
       "      <th>max</th>\n",
       "    </tr>\n",
       "  </thead>\n",
       "  <tbody>\n",
       "    <tr>\n",
       "      <th>total ads</th>\n",
       "      <td>367445.0</td>\n",
       "      <td>37.023565</td>\n",
       "      <td>45.648945</td>\n",
       "      <td>8.0</td>\n",
       "      <td>8.0</td>\n",
       "      <td>9.0</td>\n",
       "      <td>10.0</td>\n",
       "      <td>13.0</td>\n",
       "      <td>22.0</td>\n",
       "      <td>48.0</td>\n",
       "      <td>76.0</td>\n",
       "      <td>113.0</td>\n",
       "      <td>239.0</td>\n",
       "      <td>599.0</td>\n",
       "    </tr>\n",
       "  </tbody>\n",
       "</table>\n",
       "</div>"
      ],
      "text/plain": [
       "              count       mean        std  min   1%   5%   10%   20%   50%  \\\n",
       "total ads  367445.0  37.023565  45.648945  8.0  8.0  9.0  10.0  13.0  22.0   \n",
       "\n",
       "            80%   90%    95%    99%    max  \n",
       "total ads  48.0  76.0  113.0  239.0  599.0  "
      ]
     },
     "execution_count": 175,
     "metadata": {},
     "output_type": "execute_result"
    }
   ],
   "source": [
    "data=data[data[\"total ads\"] > 7]\n",
    "data.describe([0.01, 0.05, 0.10, 0.20, 0.80, 0.90, 0.95, 0.99])[[\"total ads\"]].T"
   ]
  },
  {
   "cell_type": "code",
   "execution_count": 176,
   "id": "d2f75b15",
   "metadata": {},
   "outputs": [
    {
     "data": {
      "image/png": "[encoded data removed]",
      "text/plain": [
       "<Figure size 432x288 with 1 Axes>"
      ]
     },
     "metadata": {
      "needs_background": "light"
     },
     "output_type": "display_data"
    }
   ],
   "source": [
    "sns.histplot(data[data[\"test group\"]==\"ad\"]['total ads'])\n",
    "plt.show()"
   ]
  },
  {
   "cell_type": "code",
   "execution_count": 177,
   "id": "9ea34a4c",
   "metadata": {},
   "outputs": [
    {
     "data": {
      "image/png": "[encoded data removed]",
      "text/plain": [
       "<Figure size 432x288 with 1 Axes>"
      ]
     },
     "metadata": {
      "needs_background": "light"
     },
     "output_type": "display_data"
    }
   ],
   "source": [
    "sns.histplot(np.log(data[data[\"test group\"]==\"ad\"]['total ads']))\n",
    "plt.show()"
   ]
  },
  {
   "cell_type": "code",
   "execution_count": 178,
   "id": "eb2d2263",
   "metadata": {},
   "outputs": [
    {
     "data": {
      "image/png": "[encoded data removed]",
      "text/plain": [
       "<Figure size 432x288 with 1 Axes>"
      ]
     },
     "metadata": {
      "needs_background": "light"
     },
     "output_type": "display_data"
    }
   ],
   "source": [
    "sns.histplot(data[data[\"test group\"]==\"ad\"]['most ads day'])\n",
    "plt.show()"
   ]
  },
  {
   "cell_type": "code",
   "execution_count": null,
   "id": "124068c9",
   "metadata": {},
   "outputs": [],
   "source": []
  },
  {
   "cell_type": "code",
   "execution_count": 166,
   "id": "a51a8f08",
   "metadata": {},
   "outputs": [
    {
     "data": {
      "image/png": "[encoded data removed]",
      "text/plain": [
       "<Figure size 432x288 with 1 Axes>"
      ]
     },
     "metadata": {
      "needs_background": "light"
     },
     "output_type": "display_data"
    }
   ],
   "source": [
    "sns.histplot(data[data[\"test group\"]==\"ad\"]['most ads hour'])\n",
    "plt.show()"
   ]
  },
  {
   "cell_type": "code",
   "execution_count": 167,
   "id": "dea22ec9",
   "metadata": {},
   "outputs": [
    {
     "name": "stdout",
     "output_type": "stream",
     "text": [
      "Part of users, who bought after seeing advertisments are:  0.039\n"
     ]
    }
   ],
   "source": [
    "pr=len(data[(data[\"test group\"]==\"ad\")&(data[\"converted\"]==True)]['total ads'])/len(data[(data[\"test group\"]==\"ad\")&(data[\"converted\"]==False)]['total ads'])\n",
    "print(\"Part of users, who bought after seeing advertisments are: \", round(pr,3))"
   ]
  },
  {
   "cell_type": "code",
   "execution_count": 168,
   "id": "6ad25056",
   "metadata": {},
   "outputs": [],
   "source": [
    "mask1=np.random.rand(len(data[(data[\"test group\"]==\"ad\")&(data[\"converted\"]==False)]['total ads']))<0.04\n",
    "data_nc=data[(data[\"test group\"]==\"ad\")&(data[\"converted\"]==False)][mask1]"
   ]
  },
  {
   "cell_type": "code",
   "execution_count": 179,
   "id": "f7704094",
   "metadata": {},
   "outputs": [
    {
     "data": {
      "image/png": "[encoded data removed]",
      "text/plain": [
       "<Figure size 432x288 with 1 Axes>"
      ]
     },
     "metadata": {
      "needs_background": "light"
     },
     "output_type": "display_data"
    }
   ],
   "source": [
    "sns.histplot(np.log(data[(data[\"test group\"]==\"ad\")&(data[\"converted\"]==True)]['total ads']), color='yellow')\n",
    "sns.histplot(np.log(data_nc['total ads']), color='blue')\n",
    "plt.show()"
   ]
  },
  {
   "cell_type": "code",
   "execution_count": 170,
   "id": "ea6d5245",
   "metadata": {},
   "outputs": [
    {
     "data": {
      "image/png": "[encoded data removed]",
      "text/plain": [
       "<Figure size 432x288 with 1 Axes>"
      ]
     },
     "metadata": {
      "needs_background": "light"
     },
     "output_type": "display_data"
    }
   ],
   "source": [
    "sns.histplot(data[(data[\"test group\"]==\"ad\")&(data[\"converted\"]==True)]['most ads day'], color='yellow')\n",
    "sns.histplot(data_nc['most ads day'], color='blue')\n",
    "plt.show()"
   ]
  },
  {
   "cell_type": "code",
   "execution_count": 171,
   "id": "0ccdb83d",
   "metadata": {},
   "outputs": [
    {
     "data": {
      "image/png": "[encoded data removed]",
      "text/plain": [
       "<Figure size 432x288 with 1 Axes>"
      ]
     },
     "metadata": {
      "needs_background": "light"
     },
     "output_type": "display_data"
    }
   ],
   "source": [
    "sns.histplot(data[(data[\"test group\"]==\"ad\")&(data[\"converted\"]==True)]['most ads hour'], color='yellow')\n",
    "sns.histplot(data_nc['most ads hour'], color='blue')\n",
    "plt.show()"
   ]
  },
  {
   "cell_type": "code",
   "execution_count": 180,
   "id": "66963497",
   "metadata": {},
   "outputs": [],
   "source": [
    "data_group=data[data[\"test group\"]==\"ad\"].groupby(\"total ads\")[\"converted\"].mean()\n",
    "CAC=np.zeros(len(data_group))\n",
    "k=0\n",
    "for i in data_group.index:\n",
    "    CAC[k]=data_group[i]/i\n",
    "    k+=1"
   ]
  },
  {
   "cell_type": "code",
   "execution_count": 181,
   "id": "673064f9",
   "metadata": {},
   "outputs": [
    {
     "data": {
      "image/png": "[encoded data removed]",
      "text/plain": [
       "<Figure size 432x288 with 1 Axes>"
      ]
     },
     "metadata": {
      "needs_background": "light"
     },
     "output_type": "display_data"
    }
   ],
   "source": [
    "sns.histplot(np.log(CAC+1), color='blue')\n",
    "plt.show()"
   ]
  },
  {
   "cell_type": "code",
   "execution_count": 182,
   "id": "406908ce",
   "metadata": {},
   "outputs": [
    {
     "data": {
      "image/png": "[encoded data removed]",
      "text/plain": [
       "<Figure size 432x288 with 1 Axes>"
      ]
     },
     "metadata": {
      "needs_background": "light"
     },
     "output_type": "display_data"
    }
   ],
   "source": [
    "sns.histplot(data[data[\"test group\"]==\"ad\"].groupby(\"total ads\")[\"converted\"].mean(), color='blue')\n",
    "plt.show()"
   ]
  },
  {
   "cell_type": "markdown",
   "id": "db6ab8f7",
   "metadata": {},
   "source": [
    "### <font color='red'>3. A/A-test </font>"
   ]
  },
  {
   "cell_type": "markdown",
   "id": "ca838b76",
   "metadata": {},
   "source": [
    "According to the histogram, it is possible to use 5 features for A/B-test. But, first of all, let's check whether these features and their numbers (which were given in the task(len of \"psa\")) are suitable for A/B-test. And for this aim the A/A test will be useful"
   ]
  },
  {
   "cell_type": "markdown",
   "id": "6ca54158",
   "metadata": {},
   "source": [
    "A/A-test helps us to find out the right metrics and estimate the representation of the sample. In our case in data there are already two groups without data before the experiment. That is why let's just imitate A/A experiment. We will take just one group and divide it by two and analyze the illustrated metrics"
   ]
  },
  {
   "cell_type": "code",
   "execution_count": 189,
   "id": "bc319500",
   "metadata": {},
   "outputs": [
    {
     "name": "stdout",
     "output_type": "stream",
     "text": [
      "Part of samples for A/B-testing is:  0.039\n"
     ]
    }
   ],
   "source": [
    "pr=len(data[data[\"test group\"]==\"psa\"]['total ads'])/len(data[data[\"test group\"]==\"ad\"]['total ads'])\n",
    "print(\"Part of samples for A/B-testing is: \", round(pr,3))"
   ]
  },
  {
   "cell_type": "code",
   "execution_count": 231,
   "id": "9c2cf306",
   "metadata": {},
   "outputs": [],
   "source": [
    "\n",
    "def get_pvalue_total_ads(data):\n",
    "    mask1=np.random.rand(len(data))<0.08\n",
    "    ar=data[mask1]\n",
    "    mask2=np.random.rand(len(ar))<0.5\n",
    "    AA_1=ar[mask2]\n",
    "    AA_2=ar[~mask2]\n",
    "    \n",
    "    return mannwhitneyu(AA_1, AA_2)[1]\n",
    "\n",
    "\n",
    "def get_pvalue_total_ads_2(data):\n",
    "    mask2=np.random.rand(len(data))<0.5\n",
    "    AA_1=data[mask2]\n",
    "    AA_2=data[~mask2]\n",
    "    \n",
    "    return mannwhitneyu(AA_1, AA_2)[1]"
   ]
  },
  {
   "cell_type": "code",
   "execution_count": 124,
   "id": "9c604e62",
   "metadata": {},
   "outputs": [
    {
     "data": {
      "image/png": "[encoded data removed]",
      "text/plain": [
       "<Figure size 432x288 with 1 Axes>"
      ]
     },
     "metadata": {
      "needs_background": "light"
     },
     "output_type": "display_data"
    }
   ],
   "source": [
    "d=np.log(data[data[\"test group\"]==\"ad\"]['total ads'])\n",
    "pvalues=[get_pvalue_total_ads(d) for _ in range(10000)]\n",
    "sns.histplot(pvalues)\n",
    "plt.xlabel(\"p-values\")\n",
    "plt.show()"
   ]
  },
  {
   "cell_type": "code",
   "execution_count": 125,
   "id": "c2eb045f",
   "metadata": {},
   "outputs": [
    {
     "data": {
      "image/png": "[encoded data removed]",
      "text/plain": [
       "<Figure size 432x288 with 1 Axes>"
      ]
     },
     "metadata": {
      "needs_background": "light"
     },
     "output_type": "display_data"
    }
   ],
   "source": [
    "d=data[data[\"test group\"]==\"ad\"]['most ads hour']\n",
    "pvalues=[get_pvalue_total_ads(d) for _ in range(10000)]\n",
    "sns.histplot(pvalues)\n",
    "plt.xlabel(\"p-values\")\n",
    "plt.show()"
   ]
  },
  {
   "cell_type": "code",
   "execution_count": 127,
   "id": "bd328ae3",
   "metadata": {},
   "outputs": [
    {
     "data": {
      "image/png": "[encoded data removed]",
      "text/plain": [
       "<Figure size 432x288 with 1 Axes>"
      ]
     },
     "metadata": {
      "needs_background": "light"
     },
     "output_type": "display_data"
    }
   ],
   "source": [
    "d=np.log(data[(data[\"test group\"]==\"ad\")&(data[\"converted\"]==True)]['total ads'])\n",
    "pvalues=[get_pvalue_total_ads(d) for _ in range(10000)]\n",
    "sns.histplot(pvalues)\n",
    "plt.xlabel(\"p-values\")\n",
    "plt.show()"
   ]
  },
  {
   "cell_type": "code",
   "execution_count": 232,
   "id": "5ce7af7b",
   "metadata": {},
   "outputs": [
    {
     "data": {
      "image/png": "[encoded data removed]",
      "text/plain": [
       "<Figure size 432x288 with 1 Axes>"
      ]
     },
     "metadata": {
      "needs_background": "light"
     },
     "output_type": "display_data"
    }
   ],
   "source": [
    "mask1=np.random.rand(len(data[data[\"test group\"]==\"ad\"][\"total ads\"]))<0.08\n",
    "ar=data[data[\"test group\"]==\"ad\"][mask1]\n",
    "d=ar.groupby(\"total ads\")[\"converted\"].mean()\n",
    "pvalues=[get_pvalue_total_ads_2(d) for _ in range(10000)]\n",
    "sns.histplot(pvalues)\n",
    "plt.xlabel(\"p-values\")\n",
    "plt.show()"
   ]
  },
  {
   "cell_type": "code",
   "execution_count": 233,
   "id": "326fbee5",
   "metadata": {},
   "outputs": [
    {
     "data": {
      "image/png": "[encoded data removed]",
      "text/plain": [
       "<Figure size 432x288 with 1 Axes>"
      ]
     },
     "metadata": {
      "needs_background": "light"
     },
     "output_type": "display_data"
    }
   ],
   "source": [
    "data_group=data[data[\"test group\"]==\"ad\"].groupby(\"total ads\")[\"converted\"].mean()\n",
    "CAC=np.zeros(len(data_group))\n",
    "k=0\n",
    "for i in data_group.index:\n",
    "    CAC[k]=data_group[i]/i\n",
    "    k+=1\n",
    "d=np.log(CAC+1)\n",
    "pvalues=[get_pvalue_total_ads(d) for _ in range(10000)]\n",
    "sns.histplot(pvalues)\n",
    "plt.xlabel(\"p-values\")\n",
    "plt.show()"
   ]
  },
  {
   "cell_type": "markdown",
   "id": "4d4b1537",
   "metadata": {},
   "source": [
    "### <font color='red'>4. A/B-test </font>"
   ]
  },
  {
   "cell_type": "code",
   "execution_count": 190,
   "id": "2b231141",
   "metadata": {},
   "outputs": [],
   "source": [
    "mask1=np.random.rand(len(data[data[\"test group\"]==\"ad\"]))<0.039\n",
    "data_groupA=data[data[\"test group\"]==\"ad\"][mask1]\n",
    "data_groupB=data[data[\"test group\"]==\"psa\"]"
   ]
  },
  {
   "cell_type": "code",
   "execution_count": 213,
   "id": "117237d6",
   "metadata": {},
   "outputs": [],
   "source": [
    "def AB_Test(data_A, data_B):\n",
    "    \n",
    "    # Assumption: Normality\n",
    "    ndA = shapiro(data_A)[1] >= 0.05\n",
    "    ndB = shapiro(data_B)[1] > 0.05\n",
    "    # H0: Distribution is Normal! - True\n",
    "    # H1: Distribution is not Normal! - False\n",
    "    \n",
    "    if (ndA == True)&(ndB == True): \n",
    "        # Test based on homogeneity for normal distribution\n",
    "        # Assumption: Homogeneity of variances\n",
    "        leveneTest = stats.levene(data_A, data_B)[1] > 0.05\n",
    "        \n",
    "        if leveneTest == True:\n",
    "            # Homogeneity\n",
    "            ttest = stats.ttest_ind(data_A, data_B, equal_var=True)[1]\n",
    "        else:\n",
    "            # Heterogeneous\n",
    "            ttest = stats.ttest_ind(data_A, data_B, equal_var=False)[1]\n",
    "    else:\n",
    "        # Non-Parametric Test\n",
    "        ttest = stats.mannwhitneyu(data_A, data_B)[1] \n",
    "        \n",
    "    result = pd.DataFrame({\n",
    "        \"AB Hypothesis\":[ttest > 0.05], \n",
    "        \"p-value\":[ttest]\n",
    "    })\n",
    "    \n",
    "    return result"
   ]
  },
  {
   "cell_type": "code",
   "execution_count": 214,
   "id": "2bb7a6ab",
   "metadata": {},
   "outputs": [
    {
     "name": "stderr",
     "output_type": "stream",
     "text": [
      "C:\\Users\\User\\anaconda3\\lib\\site-packages\\scipy\\stats\\morestats.py:1760: UserWarning: p-value may not be accurate for N > 5000.\n",
      "  warnings.warn(\"p-value may not be accurate for N > 5000.\")\n"
     ]
    },
    {
     "data": {
      "text/html": [
       "<div>\n",
       "<style scoped>\n",
       "    .dataframe tbody tr th:only-of-type {\n",
       "        vertical-align: middle;\n",
       "    }\n",
       "\n",
       "    .dataframe tbody tr th {\n",
       "        vertical-align: top;\n",
       "    }\n",
       "\n",
       "    .dataframe thead th {\n",
       "        text-align: right;\n",
       "    }\n",
       "</style>\n",
       "<table border=\"1\" class=\"dataframe\">\n",
       "  <thead>\n",
       "    <tr style=\"text-align: right;\">\n",
       "      <th></th>\n",
       "      <th>AB Hypothesis</th>\n",
       "      <th>p-value</th>\n",
       "    </tr>\n",
       "  </thead>\n",
       "  <tbody>\n",
       "    <tr>\n",
       "      <th>0</th>\n",
       "      <td>False</td>\n",
       "      <td>2.956282e-07</td>\n",
       "    </tr>\n",
       "  </tbody>\n",
       "</table>\n",
       "</div>"
      ],
      "text/plain": [
       "   AB Hypothesis       p-value\n",
       "0          False  2.956282e-07"
      ]
     },
     "execution_count": 214,
     "metadata": {},
     "output_type": "execute_result"
    }
   ],
   "source": [
    "AB_Test(np.log(data_groupA['total ads']), np.log(data_groupB['total ads']))"
   ]
  },
  {
   "cell_type": "code",
   "execution_count": 215,
   "id": "1e18f07f",
   "metadata": {},
   "outputs": [
    {
     "data": {
      "image/png": "[encoded data removed]",
      "text/plain": [
       "<Figure size 432x288 with 1 Axes>"
      ]
     },
     "metadata": {
      "needs_background": "light"
     },
     "output_type": "display_data"
    }
   ],
   "source": [
    "sns.histplot(np.log(data_groupA['total ads']), color='blue')\n",
    "sns.histplot(np.log(data_groupB['total ads']), color='yellow')\n",
    "plt.show()"
   ]
  },
  {
   "cell_type": "code",
   "execution_count": 216,
   "id": "f0b1c87d",
   "metadata": {},
   "outputs": [
    {
     "data": {
      "text/html": [
       "<div>\n",
       "<style scoped>\n",
       "    .dataframe tbody tr th:only-of-type {\n",
       "        vertical-align: middle;\n",
       "    }\n",
       "\n",
       "    .dataframe tbody tr th {\n",
       "        vertical-align: top;\n",
       "    }\n",
       "\n",
       "    .dataframe thead th {\n",
       "        text-align: right;\n",
       "    }\n",
       "</style>\n",
       "<table border=\"1\" class=\"dataframe\">\n",
       "  <thead>\n",
       "    <tr style=\"text-align: right;\">\n",
       "      <th></th>\n",
       "      <th>AB Hypothesis</th>\n",
       "      <th>p-value</th>\n",
       "    </tr>\n",
       "  </thead>\n",
       "  <tbody>\n",
       "    <tr>\n",
       "      <th>0</th>\n",
       "      <td>True</td>\n",
       "      <td>0.1791</td>\n",
       "    </tr>\n",
       "  </tbody>\n",
       "</table>\n",
       "</div>"
      ],
      "text/plain": [
       "   AB Hypothesis  p-value\n",
       "0           True   0.1791"
      ]
     },
     "execution_count": 216,
     "metadata": {},
     "output_type": "execute_result"
    }
   ],
   "source": [
    "AB_Test(np.log(data_groupA[data_groupA[\"converted\"]==True]['total ads']), np.log(data_groupB[data_groupB[\"converted\"]==True]['total ads']))"
   ]
  },
  {
   "cell_type": "markdown",
   "id": "647b4533",
   "metadata": {},
   "source": [
    "### This feature doesn't show significant difference! "
   ]
  },
  {
   "cell_type": "code",
   "execution_count": 217,
   "id": "e2343cfd",
   "metadata": {},
   "outputs": [
    {
     "data": {
      "image/png": "[encoded data removed]",
      "text/plain": [
       "<Figure size 432x288 with 1 Axes>"
      ]
     },
     "metadata": {
      "needs_background": "light"
     },
     "output_type": "display_data"
    }
   ],
   "source": [
    "sns.histplot(np.log(data_groupA[data_groupA[\"converted\"]==True]['total ads']), color='blue')\n",
    "sns.histplot(np.log(data_groupB[data_groupB[\"converted\"]==True]['total ads']), color='yellow')\n",
    "plt.show()"
   ]
  },
  {
   "cell_type": "code",
   "execution_count": 218,
   "id": "5f02b22a",
   "metadata": {},
   "outputs": [
    {
     "name": "stderr",
     "output_type": "stream",
     "text": [
      "C:\\Users\\User\\anaconda3\\lib\\site-packages\\scipy\\stats\\morestats.py:1760: UserWarning: p-value may not be accurate for N > 5000.\n",
      "  warnings.warn(\"p-value may not be accurate for N > 5000.\")\n"
     ]
    },
    {
     "data": {
      "text/html": [
       "<div>\n",
       "<style scoped>\n",
       "    .dataframe tbody tr th:only-of-type {\n",
       "        vertical-align: middle;\n",
       "    }\n",
       "\n",
       "    .dataframe tbody tr th {\n",
       "        vertical-align: top;\n",
       "    }\n",
       "\n",
       "    .dataframe thead th {\n",
       "        text-align: right;\n",
       "    }\n",
       "</style>\n",
       "<table border=\"1\" class=\"dataframe\">\n",
       "  <thead>\n",
       "    <tr style=\"text-align: right;\">\n",
       "      <th></th>\n",
       "      <th>AB Hypothesis</th>\n",
       "      <th>p-value</th>\n",
       "    </tr>\n",
       "  </thead>\n",
       "  <tbody>\n",
       "    <tr>\n",
       "      <th>0</th>\n",
       "      <td>False</td>\n",
       "      <td>0.000003</td>\n",
       "    </tr>\n",
       "  </tbody>\n",
       "</table>\n",
       "</div>"
      ],
      "text/plain": [
       "   AB Hypothesis   p-value\n",
       "0          False  0.000003"
      ]
     },
     "execution_count": 218,
     "metadata": {},
     "output_type": "execute_result"
    }
   ],
   "source": [
    "AB_Test(data_groupA['most ads hour'], data_groupB['most ads hour'])"
   ]
  },
  {
   "cell_type": "code",
   "execution_count": 219,
   "id": "dabf0707",
   "metadata": {},
   "outputs": [
    {
     "data": {
      "image/png": "[encoded data removed]",
      "text/plain": [
       "<Figure size 432x288 with 1 Axes>"
      ]
     },
     "metadata": {
      "needs_background": "light"
     },
     "output_type": "display_data"
    }
   ],
   "source": [
    "sns.histplot(data_groupA['most ads hour'], color='blue')\n",
    "sns.histplot(data_groupB['most ads hour'], color='yellow')\n",
    "plt.show()"
   ]
  },
  {
   "cell_type": "code",
   "execution_count": 220,
   "id": "22034f56",
   "metadata": {},
   "outputs": [
    {
     "data": {
      "text/html": [
       "<div>\n",
       "<style scoped>\n",
       "    .dataframe tbody tr th:only-of-type {\n",
       "        vertical-align: middle;\n",
       "    }\n",
       "\n",
       "    .dataframe tbody tr th {\n",
       "        vertical-align: top;\n",
       "    }\n",
       "\n",
       "    .dataframe thead th {\n",
       "        text-align: right;\n",
       "    }\n",
       "</style>\n",
       "<table border=\"1\" class=\"dataframe\">\n",
       "  <thead>\n",
       "    <tr style=\"text-align: right;\">\n",
       "      <th></th>\n",
       "      <th>AB Hypothesis</th>\n",
       "      <th>p-value</th>\n",
       "    </tr>\n",
       "  </thead>\n",
       "  <tbody>\n",
       "    <tr>\n",
       "      <th>0</th>\n",
       "      <td>False</td>\n",
       "      <td>0.005417</td>\n",
       "    </tr>\n",
       "  </tbody>\n",
       "</table>\n",
       "</div>"
      ],
      "text/plain": [
       "   AB Hypothesis   p-value\n",
       "0          False  0.005417"
      ]
     },
     "execution_count": 220,
     "metadata": {},
     "output_type": "execute_result"
    }
   ],
   "source": [
    "AB_Test(data_groupA.groupby(\"total ads\")[\"converted\"].mean(), data_groupB.groupby(\"total ads\")[\"converted\"].mean())"
   ]
  },
  {
   "cell_type": "code",
   "execution_count": 221,
   "id": "b8bea471",
   "metadata": {},
   "outputs": [
    {
     "data": {
      "image/png": "[encoded data removed]",
      "text/plain": [
       "<Figure size 432x288 with 1 Axes>"
      ]
     },
     "metadata": {
      "needs_background": "light"
     },
     "output_type": "display_data"
    }
   ],
   "source": [
    "sns.histplot(data_groupA.groupby(\"total ads\")[\"converted\"].mean(), color='blue')\n",
    "sns.histplot(data_groupB.groupby(\"total ads\")[\"converted\"].mean(), color='yellow')\n",
    "plt.show()"
   ]
  },
  {
   "cell_type": "code",
   "execution_count": 222,
   "id": "0c4f63d6",
   "metadata": {},
   "outputs": [],
   "source": [
    "d1=data_groupA.groupby(\"total ads\")[\"converted\"].mean()\n",
    "CAC_A=np.zeros(len(d1))\n",
    "k=0\n",
    "for i in d1.index:\n",
    "    CAC_A[k]=d1[i]/i\n",
    "    k+=1\n",
    "d_A=CAC_A"
   ]
  },
  {
   "cell_type": "code",
   "execution_count": 223,
   "id": "baa8fa02",
   "metadata": {},
   "outputs": [],
   "source": [
    "d2=data_groupB.groupby(\"total ads\")[\"converted\"].mean()\n",
    "CAC_B=np.zeros(len(d2))\n",
    "k=0\n",
    "for i in d2.index:\n",
    "    CAC_B[k]=d2[i]/i\n",
    "    k+=1\n",
    "d_B=CAC_B"
   ]
  },
  {
   "cell_type": "code",
   "execution_count": 224,
   "id": "c941dba2",
   "metadata": {},
   "outputs": [
    {
     "data": {
      "text/html": [
       "<div>\n",
       "<style scoped>\n",
       "    .dataframe tbody tr th:only-of-type {\n",
       "        vertical-align: middle;\n",
       "    }\n",
       "\n",
       "    .dataframe tbody tr th {\n",
       "        vertical-align: top;\n",
       "    }\n",
       "\n",
       "    .dataframe thead th {\n",
       "        text-align: right;\n",
       "    }\n",
       "</style>\n",
       "<table border=\"1\" class=\"dataframe\">\n",
       "  <thead>\n",
       "    <tr style=\"text-align: right;\">\n",
       "      <th></th>\n",
       "      <th>AB Hypothesis</th>\n",
       "      <th>p-value</th>\n",
       "    </tr>\n",
       "  </thead>\n",
       "  <tbody>\n",
       "    <tr>\n",
       "      <th>0</th>\n",
       "      <td>False</td>\n",
       "      <td>0.000162</td>\n",
       "    </tr>\n",
       "  </tbody>\n",
       "</table>\n",
       "</div>"
      ],
      "text/plain": [
       "   AB Hypothesis   p-value\n",
       "0          False  0.000162"
      ]
     },
     "execution_count": 224,
     "metadata": {},
     "output_type": "execute_result"
    }
   ],
   "source": [
    "AB_Test(d_A, d_B)"
   ]
  },
  {
   "cell_type": "code",
   "execution_count": 225,
   "id": "397e1f18",
   "metadata": {},
   "outputs": [
    {
     "data": {
      "image/png": "[encoded data removed]",
      "text/plain": [
       "<Figure size 432x288 with 1 Axes>"
      ]
     },
     "metadata": {
      "needs_background": "light"
     },
     "output_type": "display_data"
    }
   ],
   "source": [
    "sns.histplot(d_A, color='blue')\n",
    "sns.histplot(d_B, color='yellow')\n",
    "plt.show()"
   ]
  },
  {
   "cell_type": "markdown",
   "id": "1dbe601f",
   "metadata": {},
   "source": [
    "## Yes! A/B-test is showing that adverticement was useful!"
   ]
  },
  {
   "cell_type": "code",
   "execution_count": null,
   "id": "fe80696e",
   "metadata": {},
   "outputs": [],
   "source": []
  }
 ],
 "metadata": {
  "kernelspec": {
   "display_name": "Python 3 (ipykernel)",
   "language": "python",
   "name": "python3"
  },
  "language_info": {
   "codemirror_mode": {
    "name": "ipython",
    "version": 3
   },
   "file_extension": ".py",
   "mimetype": "text/x-python",
   "name": "python",
   "nbconvert_exporter": "python",
   "pygments_lexer": "ipython3",
   "version": "3.9.7"
  }
 },
 "nbformat": 4,
 "nbformat_minor": 5
}
